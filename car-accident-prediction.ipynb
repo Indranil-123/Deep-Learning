{
 "cells": [
  {
   "cell_type": "code",
   "execution_count": 1,
   "id": "ee161cc1",
   "metadata": {
    "_cell_guid": "b1076dfc-b9ad-4769-8c92-a6c4dae69d19",
    "_uuid": "8f2839f25d086af736a60e9eeb907d3b93b6e0e5",
    "execution": {
     "iopub.execute_input": "2025-02-20T18:38:10.426413Z",
     "iopub.status.busy": "2025-02-20T18:38:10.426041Z",
     "iopub.status.idle": "2025-02-20T18:38:11.397890Z",
     "shell.execute_reply": "2025-02-20T18:38:11.396759Z"
    },
    "papermill": {
     "duration": 0.980954,
     "end_time": "2025-02-20T18:38:11.399547",
     "exception": false,
     "start_time": "2025-02-20T18:38:10.418593",
     "status": "completed"
    },
    "tags": []
   },
   "outputs": [
    {
     "name": "stdout",
     "output_type": "stream",
     "text": [
      "/kaggle/input/road-accident-survival-dataset/accident.csv\n"
     ]
    }
   ],
   "source": [
    "# This Python 3 environment comes with many helpful analytics libraries installed\n",
    "# It is defined by the kaggle/python Docker image: https://github.com/kaggle/docker-python\n",
    "# For example, here's several helpful packages to load\n",
    "\n",
    "import numpy as np # linear algebra\n",
    "import pandas as pd # data processing, CSV file I/O (e.g. pd.read_csv)\n",
    "\n",
    "# Input data files are available in the read-only \"../input/\" directory\n",
    "# For example, running this (by clicking run or pressing Shift+Enter) will list all files under the input directory\n",
    "\n",
    "import os\n",
    "for dirname, _, filenames in os.walk('/kaggle/input'):\n",
    "    for filename in filenames:\n",
    "        print(os.path.join(dirname, filename))\n",
    "\n",
    "# You can write up to 20GB to the current directory (/kaggle/working/) that gets preserved as output when you create a version using \"Save & Run All\" \n",
    "# You can also write temporary files to /kaggle/temp/, but they won't be saved outside of the current session"
   ]
  },
  {
   "cell_type": "code",
   "execution_count": 2,
   "id": "5b01051f",
   "metadata": {
    "execution": {
     "iopub.execute_input": "2025-02-20T18:38:11.412093Z",
     "iopub.status.busy": "2025-02-20T18:38:11.411638Z",
     "iopub.status.idle": "2025-02-20T18:38:11.432581Z",
     "shell.execute_reply": "2025-02-20T18:38:11.431466Z"
    },
    "papermill": {
     "duration": 0.029153,
     "end_time": "2025-02-20T18:38:11.434549",
     "exception": false,
     "start_time": "2025-02-20T18:38:11.405396",
     "status": "completed"
    },
    "tags": []
   },
   "outputs": [],
   "source": [
    "df = pd.read_csv('/kaggle/input/road-accident-survival-dataset/accident.csv')"
   ]
  },
  {
   "cell_type": "code",
   "execution_count": 3,
   "id": "149e84d3",
   "metadata": {
    "execution": {
     "iopub.execute_input": "2025-02-20T18:38:11.446693Z",
     "iopub.status.busy": "2025-02-20T18:38:11.446372Z",
     "iopub.status.idle": "2025-02-20T18:38:11.475148Z",
     "shell.execute_reply": "2025-02-20T18:38:11.474058Z"
    },
    "papermill": {
     "duration": 0.036784,
     "end_time": "2025-02-20T18:38:11.476891",
     "exception": false,
     "start_time": "2025-02-20T18:38:11.440107",
     "status": "completed"
    },
    "tags": []
   },
   "outputs": [
    {
     "data": {
      "text/html": [
       "<div>\n",
       "<style scoped>\n",
       "    .dataframe tbody tr th:only-of-type {\n",
       "        vertical-align: middle;\n",
       "    }\n",
       "\n",
       "    .dataframe tbody tr th {\n",
       "        vertical-align: top;\n",
       "    }\n",
       "\n",
       "    .dataframe thead th {\n",
       "        text-align: right;\n",
       "    }\n",
       "</style>\n",
       "<table border=\"1\" class=\"dataframe\">\n",
       "  <thead>\n",
       "    <tr style=\"text-align: right;\">\n",
       "      <th></th>\n",
       "      <th>Age</th>\n",
       "      <th>Gender</th>\n",
       "      <th>Speed_of_Impact</th>\n",
       "      <th>Helmet_Used</th>\n",
       "      <th>Seatbelt_Used</th>\n",
       "      <th>Survived</th>\n",
       "    </tr>\n",
       "  </thead>\n",
       "  <tbody>\n",
       "    <tr>\n",
       "      <th>0</th>\n",
       "      <td>56</td>\n",
       "      <td>Female</td>\n",
       "      <td>27.0</td>\n",
       "      <td>No</td>\n",
       "      <td>No</td>\n",
       "      <td>1</td>\n",
       "    </tr>\n",
       "    <tr>\n",
       "      <th>1</th>\n",
       "      <td>69</td>\n",
       "      <td>Female</td>\n",
       "      <td>46.0</td>\n",
       "      <td>No</td>\n",
       "      <td>Yes</td>\n",
       "      <td>1</td>\n",
       "    </tr>\n",
       "    <tr>\n",
       "      <th>2</th>\n",
       "      <td>46</td>\n",
       "      <td>Male</td>\n",
       "      <td>46.0</td>\n",
       "      <td>Yes</td>\n",
       "      <td>Yes</td>\n",
       "      <td>0</td>\n",
       "    </tr>\n",
       "    <tr>\n",
       "      <th>3</th>\n",
       "      <td>32</td>\n",
       "      <td>Male</td>\n",
       "      <td>117.0</td>\n",
       "      <td>No</td>\n",
       "      <td>Yes</td>\n",
       "      <td>0</td>\n",
       "    </tr>\n",
       "    <tr>\n",
       "      <th>4</th>\n",
       "      <td>60</td>\n",
       "      <td>Female</td>\n",
       "      <td>40.0</td>\n",
       "      <td>Yes</td>\n",
       "      <td>Yes</td>\n",
       "      <td>0</td>\n",
       "    </tr>\n",
       "    <tr>\n",
       "      <th>5</th>\n",
       "      <td>25</td>\n",
       "      <td>Male</td>\n",
       "      <td>49.0</td>\n",
       "      <td>Yes</td>\n",
       "      <td>Yes</td>\n",
       "      <td>1</td>\n",
       "    </tr>\n",
       "    <tr>\n",
       "      <th>6</th>\n",
       "      <td>38</td>\n",
       "      <td>Male</td>\n",
       "      <td>116.0</td>\n",
       "      <td>Yes</td>\n",
       "      <td>Yes</td>\n",
       "      <td>1</td>\n",
       "    </tr>\n",
       "    <tr>\n",
       "      <th>7</th>\n",
       "      <td>56</td>\n",
       "      <td>Male</td>\n",
       "      <td>47.0</td>\n",
       "      <td>Yes</td>\n",
       "      <td>Yes</td>\n",
       "      <td>1</td>\n",
       "    </tr>\n",
       "    <tr>\n",
       "      <th>8</th>\n",
       "      <td>36</td>\n",
       "      <td>Female</td>\n",
       "      <td>83.0</td>\n",
       "      <td>Yes</td>\n",
       "      <td>No</td>\n",
       "      <td>1</td>\n",
       "    </tr>\n",
       "    <tr>\n",
       "      <th>9</th>\n",
       "      <td>40</td>\n",
       "      <td>Female</td>\n",
       "      <td>116.0</td>\n",
       "      <td>Yes</td>\n",
       "      <td>No</td>\n",
       "      <td>1</td>\n",
       "    </tr>\n",
       "  </tbody>\n",
       "</table>\n",
       "</div>"
      ],
      "text/plain": [
       "   Age  Gender  Speed_of_Impact Helmet_Used Seatbelt_Used  Survived\n",
       "0   56  Female             27.0          No            No         1\n",
       "1   69  Female             46.0          No           Yes         1\n",
       "2   46    Male             46.0         Yes           Yes         0\n",
       "3   32    Male            117.0          No           Yes         0\n",
       "4   60  Female             40.0         Yes           Yes         0\n",
       "5   25    Male             49.0         Yes           Yes         1\n",
       "6   38    Male            116.0         Yes           Yes         1\n",
       "7   56    Male             47.0         Yes           Yes         1\n",
       "8   36  Female             83.0         Yes            No         1\n",
       "9   40  Female            116.0         Yes            No         1"
      ]
     },
     "execution_count": 3,
     "metadata": {},
     "output_type": "execute_result"
    }
   ],
   "source": [
    "df.head(10)"
   ]
  },
  {
   "cell_type": "markdown",
   "id": "b2a96d52",
   "metadata": {
    "papermill": {
     "duration": 0.005402,
     "end_time": "2025-02-20T18:38:11.488097",
     "exception": false,
     "start_time": "2025-02-20T18:38:11.482695",
     "status": "completed"
    },
    "tags": []
   },
   "source": [
    "## Gathering understanding about the data"
   ]
  },
  {
   "cell_type": "code",
   "execution_count": 4,
   "id": "f39963af",
   "metadata": {
    "execution": {
     "iopub.execute_input": "2025-02-20T18:38:11.500601Z",
     "iopub.status.busy": "2025-02-20T18:38:11.500203Z",
     "iopub.status.idle": "2025-02-20T18:38:11.528693Z",
     "shell.execute_reply": "2025-02-20T18:38:11.527031Z"
    },
    "papermill": {
     "duration": 0.037001,
     "end_time": "2025-02-20T18:38:11.530699",
     "exception": false,
     "start_time": "2025-02-20T18:38:11.493698",
     "status": "completed"
    },
    "tags": []
   },
   "outputs": [
    {
     "name": "stdout",
     "output_type": "stream",
     "text": [
      "<class 'pandas.core.frame.DataFrame'>\n",
      "RangeIndex: 200 entries, 0 to 199\n",
      "Data columns (total 6 columns):\n",
      " #   Column           Non-Null Count  Dtype  \n",
      "---  ------           --------------  -----  \n",
      " 0   Age              200 non-null    int64  \n",
      " 1   Gender           199 non-null    object \n",
      " 2   Speed_of_Impact  197 non-null    float64\n",
      " 3   Helmet_Used      200 non-null    object \n",
      " 4   Seatbelt_Used    200 non-null    object \n",
      " 5   Survived         200 non-null    int64  \n",
      "dtypes: float64(1), int64(2), object(3)\n",
      "memory usage: 9.5+ KB\n"
     ]
    }
   ],
   "source": [
    "df.info()"
   ]
  },
  {
   "cell_type": "code",
   "execution_count": 5,
   "id": "cbf0ade4",
   "metadata": {
    "execution": {
     "iopub.execute_input": "2025-02-20T18:38:11.543614Z",
     "iopub.status.busy": "2025-02-20T18:38:11.543300Z",
     "iopub.status.idle": "2025-02-20T18:38:11.550536Z",
     "shell.execute_reply": "2025-02-20T18:38:11.549323Z"
    },
    "papermill": {
     "duration": 0.015863,
     "end_time": "2025-02-20T18:38:11.552518",
     "exception": false,
     "start_time": "2025-02-20T18:38:11.536655",
     "status": "completed"
    },
    "tags": []
   },
   "outputs": [
    {
     "data": {
      "text/plain": [
       "Age                0\n",
       "Gender             1\n",
       "Speed_of_Impact    3\n",
       "Helmet_Used        0\n",
       "Seatbelt_Used      0\n",
       "Survived           0\n",
       "dtype: int64"
      ]
     },
     "execution_count": 5,
     "metadata": {},
     "output_type": "execute_result"
    }
   ],
   "source": [
    "df.isnull().sum()"
   ]
  },
  {
   "cell_type": "code",
   "execution_count": 6,
   "id": "c712b7a9",
   "metadata": {
    "execution": {
     "iopub.execute_input": "2025-02-20T18:38:11.565436Z",
     "iopub.status.busy": "2025-02-20T18:38:11.565030Z",
     "iopub.status.idle": "2025-02-20T18:38:11.572964Z",
     "shell.execute_reply": "2025-02-20T18:38:11.571835Z"
    },
    "papermill": {
     "duration": 0.01604,
     "end_time": "2025-02-20T18:38:11.574530",
     "exception": false,
     "start_time": "2025-02-20T18:38:11.558490",
     "status": "completed"
    },
    "tags": []
   },
   "outputs": [
    {
     "data": {
      "text/plain": [
       "0"
      ]
     },
     "execution_count": 6,
     "metadata": {},
     "output_type": "execute_result"
    }
   ],
   "source": [
    "df.duplicated().sum()"
   ]
  },
  {
   "cell_type": "code",
   "execution_count": 7,
   "id": "ef58a724",
   "metadata": {
    "execution": {
     "iopub.execute_input": "2025-02-20T18:38:11.587814Z",
     "iopub.status.busy": "2025-02-20T18:38:11.587388Z",
     "iopub.status.idle": "2025-02-20T18:38:13.623891Z",
     "shell.execute_reply": "2025-02-20T18:38:13.622877Z"
    },
    "papermill": {
     "duration": 2.045007,
     "end_time": "2025-02-20T18:38:13.625712",
     "exception": false,
     "start_time": "2025-02-20T18:38:11.580705",
     "status": "completed"
    },
    "tags": []
   },
   "outputs": [
    {
     "name": "stdout",
     "output_type": "stream",
     "text": [
      "Survived\n",
      "1    101\n",
      "0     99\n",
      "Name: count, dtype: int64\n"
     ]
    },
    {
     "name": "stderr",
     "output_type": "stream",
     "text": [
      "/usr/local/lib/python3.10/dist-packages/seaborn/_oldcore.py:1119: FutureWarning: use_inf_as_na option is deprecated and will be removed in a future version. Convert inf values to NaN before operating instead.\n",
      "  with pd.option_context('mode.use_inf_as_na', True):\n"
     ]
    },
    {
     "data": {
      "image/png": "[encoded data removed]",
      "text/plain": [
       "<Figure size 640x480 with 1 Axes>"
      ]
     },
     "metadata": {},
     "output_type": "display_data"
    }
   ],
   "source": [
    "#Gathering the understanding about the Survival Distribution\n",
    "\n",
    "import matplotlib.pyplot as plt\n",
    "import seaborn as sns\n",
    "\n",
    "print(df['Survived'].value_counts())\n",
    "sns.histplot(df['Survived'],kde=True, color='orange')\n",
    "plt.show()\n"
   ]
  },
  {
   "cell_type": "code",
   "execution_count": 8,
   "id": "fd9e3bfd",
   "metadata": {
    "execution": {
     "iopub.execute_input": "2025-02-20T18:38:13.640016Z",
     "iopub.status.busy": "2025-02-20T18:38:13.639466Z",
     "iopub.status.idle": "2025-02-20T18:38:13.832879Z",
     "shell.execute_reply": "2025-02-20T18:38:13.831572Z"
    },
    "papermill": {
     "duration": 0.202367,
     "end_time": "2025-02-20T18:38:13.834656",
     "exception": false,
     "start_time": "2025-02-20T18:38:13.632289",
     "status": "completed"
    },
    "tags": []
   },
   "outputs": [
    {
     "name": "stderr",
     "output_type": "stream",
     "text": [
      "/usr/local/lib/python3.10/dist-packages/seaborn/_oldcore.py:1119: FutureWarning: use_inf_as_na option is deprecated and will be removed in a future version. Convert inf values to NaN before operating instead.\n",
      "  with pd.option_context('mode.use_inf_as_na', True):\n"
     ]
    },
    {
     "data": {
      "image/png": "[encoded data removed]",
      "text/plain": [
       "<Figure size 640x480 with 1 Axes>"
      ]
     },
     "metadata": {},
     "output_type": "display_data"
    }
   ],
   "source": [
    "#Gathering the understanding about the Age Distribution\n",
    "\n",
    "import matplotlib.pyplot as plt\n",
    "import seaborn as sns\n",
    "\n",
    "sns.histplot(df['Age'],kde=True, color='orange')\n",
    "plt.show()\n"
   ]
  },
  {
   "cell_type": "code",
   "execution_count": 9,
   "id": "3a3e2437",
   "metadata": {
    "execution": {
     "iopub.execute_input": "2025-02-20T18:38:13.849485Z",
     "iopub.status.busy": "2025-02-20T18:38:13.849149Z",
     "iopub.status.idle": "2025-02-20T18:38:13.998887Z",
     "shell.execute_reply": "2025-02-20T18:38:13.997688Z"
    },
    "papermill": {
     "duration": 0.159294,
     "end_time": "2025-02-20T18:38:14.000825",
     "exception": false,
     "start_time": "2025-02-20T18:38:13.841531",
     "status": "completed"
    },
    "tags": []
   },
   "outputs": [
    {
     "data": {
      "image/png": "[encoded data removed]",
      "text/plain": [
       "<Figure size 640x480 with 1 Axes>"
      ]
     },
     "metadata": {},
     "output_type": "display_data"
    }
   ],
   "source": [
    "#Now try to understand how using Helmet creating impact on survival\n",
    "\n",
    "sns.countplot(x='Helmet_Used', hue='Survived', data=df)\n",
    "plt.xlabel('Helmet used')\n",
    "plt.show()"
   ]
  },
  {
   "cell_type": "code",
   "execution_count": 10,
   "id": "2cc3dda2",
   "metadata": {
    "execution": {
     "iopub.execute_input": "2025-02-20T18:38:14.016939Z",
     "iopub.status.busy": "2025-02-20T18:38:14.016514Z",
     "iopub.status.idle": "2025-02-20T18:38:14.172287Z",
     "shell.execute_reply": "2025-02-20T18:38:14.171225Z"
    },
    "papermill": {
     "duration": 0.165708,
     "end_time": "2025-02-20T18:38:14.174081",
     "exception": false,
     "start_time": "2025-02-20T18:38:14.008373",
     "status": "completed"
    },
    "tags": []
   },
   "outputs": [
    {
     "data": {
      "image/png": "[encoded data removed]",
      "text/plain": [
       "<Figure size 640x480 with 1 Axes>"
      ]
     },
     "metadata": {},
     "output_type": "display_data"
    }
   ],
   "source": [
    "#Now try to understand how using Seatbelt creating impact on survival\n",
    "\n",
    "sns.countplot(x='Seatbelt_Used', hue='Survived', data=df)\n",
    "plt.xlabel('Seatbelt_Used used')\n",
    "plt.show()"
   ]
  },
  {
   "cell_type": "markdown",
   "id": "2e7e458f",
   "metadata": {
    "papermill": {
     "duration": 0.007295,
     "end_time": "2025-02-20T18:38:14.189552",
     "exception": false,
     "start_time": "2025-02-20T18:38:14.182257",
     "status": "completed"
    },
    "tags": []
   },
   "source": [
    "## SeatBelt is creating more impact factor to be survived"
   ]
  },
  {
   "cell_type": "code",
   "execution_count": 11,
   "id": "69cf5a54",
   "metadata": {
    "execution": {
     "iopub.execute_input": "2025-02-20T18:38:14.205823Z",
     "iopub.status.busy": "2025-02-20T18:38:14.205462Z",
     "iopub.status.idle": "2025-02-20T18:38:14.418926Z",
     "shell.execute_reply": "2025-02-20T18:38:14.417768Z"
    },
    "papermill": {
     "duration": 0.223747,
     "end_time": "2025-02-20T18:38:14.420673",
     "exception": false,
     "start_time": "2025-02-20T18:38:14.196926",
     "status": "completed"
    },
    "tags": []
   },
   "outputs": [
    {
     "data": {
      "image/png": "[encoded data removed]",
      "text/plain": [
       "<Figure size 640x480 with 2 Axes>"
      ]
     },
     "metadata": {},
     "output_type": "display_data"
    }
   ],
   "source": [
    "#Now We need to check the correlation between the numerical columns\n",
    "\n",
    "calculated_corr = df[['Age', 'Speed_of_Impact', 'Survived']].corr()\n",
    "sns.heatmap(calculated_corr, annot=True, cmap='BuPu')\n",
    "plt.show()"
   ]
  },
  {
   "cell_type": "markdown",
   "id": "018b3ef6",
   "metadata": {
    "papermill": {
     "duration": 0.007694,
     "end_time": "2025-02-20T18:38:14.437167",
     "exception": false,
     "start_time": "2025-02-20T18:38:14.429473",
     "status": "completed"
    },
    "tags": []
   },
   "source": [
    "## Cleaning And Transforming"
   ]
  },
  {
   "cell_type": "code",
   "execution_count": 12,
   "id": "afd8ad1b",
   "metadata": {
    "execution": {
     "iopub.execute_input": "2025-02-20T18:38:14.454319Z",
     "iopub.status.busy": "2025-02-20T18:38:14.453978Z",
     "iopub.status.idle": "2025-02-20T18:38:14.461077Z",
     "shell.execute_reply": "2025-02-20T18:38:14.460095Z"
    },
    "papermill": {
     "duration": 0.017582,
     "end_time": "2025-02-20T18:38:14.462636",
     "exception": false,
     "start_time": "2025-02-20T18:38:14.445054",
     "status": "completed"
    },
    "tags": []
   },
   "outputs": [
    {
     "data": {
      "text/plain": [
       "Age                0\n",
       "Gender             1\n",
       "Speed_of_Impact    3\n",
       "Helmet_Used        0\n",
       "Seatbelt_Used      0\n",
       "Survived           0\n",
       "dtype: int64"
      ]
     },
     "execution_count": 12,
     "metadata": {},
     "output_type": "execute_result"
    }
   ],
   "source": [
    "df.isnull().sum()"
   ]
  },
  {
   "cell_type": "code",
   "execution_count": 13,
   "id": "7bfa4878",
   "metadata": {
    "execution": {
     "iopub.execute_input": "2025-02-20T18:38:14.480499Z",
     "iopub.status.busy": "2025-02-20T18:38:14.480181Z",
     "iopub.status.idle": "2025-02-20T18:38:14.490888Z",
     "shell.execute_reply": "2025-02-20T18:38:14.489518Z"
    },
    "papermill": {
     "duration": 0.021544,
     "end_time": "2025-02-20T18:38:14.492612",
     "exception": false,
     "start_time": "2025-02-20T18:38:14.471068",
     "status": "completed"
    },
    "tags": []
   },
   "outputs": [
    {
     "name": "stdout",
     "output_type": "stream",
     "text": [
      "<class 'pandas.core.frame.DataFrame'>\n",
      "RangeIndex: 200 entries, 0 to 199\n",
      "Data columns (total 6 columns):\n",
      " #   Column           Non-Null Count  Dtype  \n",
      "---  ------           --------------  -----  \n",
      " 0   Age              200 non-null    int64  \n",
      " 1   Gender           199 non-null    object \n",
      " 2   Speed_of_Impact  197 non-null    float64\n",
      " 3   Helmet_Used      200 non-null    object \n",
      " 4   Seatbelt_Used    200 non-null    object \n",
      " 5   Survived         200 non-null    int64  \n",
      "dtypes: float64(1), int64(2), object(3)\n",
      "memory usage: 9.5+ KB\n"
     ]
    }
   ],
   "source": [
    "df.info()"
   ]
  },
  {
   "cell_type": "code",
   "execution_count": 14,
   "id": "70eecfa5",
   "metadata": {
    "execution": {
     "iopub.execute_input": "2025-02-20T18:38:14.511062Z",
     "iopub.status.busy": "2025-02-20T18:38:14.510658Z",
     "iopub.status.idle": "2025-02-20T18:38:14.516117Z",
     "shell.execute_reply": "2025-02-20T18:38:14.514730Z"
    },
    "papermill": {
     "duration": 0.016622,
     "end_time": "2025-02-20T18:38:14.518072",
     "exception": false,
     "start_time": "2025-02-20T18:38:14.501450",
     "status": "completed"
    },
    "tags": []
   },
   "outputs": [],
   "source": [
    "df['Speed_of_Impact'] = df['Speed_of_Impact'].fillna(df['Speed_of_Impact'].median())"
   ]
  },
  {
   "cell_type": "code",
   "execution_count": 15,
   "id": "af7917e2",
   "metadata": {
    "execution": {
     "iopub.execute_input": "2025-02-20T18:38:14.536351Z",
     "iopub.status.busy": "2025-02-20T18:38:14.535983Z",
     "iopub.status.idle": "2025-02-20T18:38:14.541916Z",
     "shell.execute_reply": "2025-02-20T18:38:14.540780Z"
    },
    "papermill": {
     "duration": 0.017179,
     "end_time": "2025-02-20T18:38:14.543728",
     "exception": false,
     "start_time": "2025-02-20T18:38:14.526549",
     "status": "completed"
    },
    "tags": []
   },
   "outputs": [],
   "source": [
    "df['Gender'] = df['Gender'].fillna(df['Gender'].mode()[0])"
   ]
  },
  {
   "cell_type": "code",
   "execution_count": 16,
   "id": "62c2fde2",
   "metadata": {
    "execution": {
     "iopub.execute_input": "2025-02-20T18:38:14.562104Z",
     "iopub.status.busy": "2025-02-20T18:38:14.561657Z",
     "iopub.status.idle": "2025-02-20T18:38:14.570481Z",
     "shell.execute_reply": "2025-02-20T18:38:14.569057Z"
    },
    "papermill": {
     "duration": 0.020153,
     "end_time": "2025-02-20T18:38:14.572408",
     "exception": false,
     "start_time": "2025-02-20T18:38:14.552255",
     "status": "completed"
    },
    "tags": []
   },
   "outputs": [
    {
     "data": {
      "text/plain": [
       "Age                0\n",
       "Gender             0\n",
       "Speed_of_Impact    0\n",
       "Helmet_Used        0\n",
       "Seatbelt_Used      0\n",
       "Survived           0\n",
       "dtype: int64"
      ]
     },
     "execution_count": 16,
     "metadata": {},
     "output_type": "execute_result"
    }
   ],
   "source": [
    "df.isnull().sum()"
   ]
  },
  {
   "cell_type": "code",
   "execution_count": 17,
   "id": "e0e88125",
   "metadata": {
    "execution": {
     "iopub.execute_input": "2025-02-20T18:38:14.590965Z",
     "iopub.status.busy": "2025-02-20T18:38:14.590590Z",
     "iopub.status.idle": "2025-02-20T18:38:14.604891Z",
     "shell.execute_reply": "2025-02-20T18:38:14.603985Z"
    },
    "papermill": {
     "duration": 0.025116,
     "end_time": "2025-02-20T18:38:14.606411",
     "exception": false,
     "start_time": "2025-02-20T18:38:14.581295",
     "status": "completed"
    },
    "tags": []
   },
   "outputs": [
    {
     "data": {
      "text/html": [
       "<div>\n",
       "<style scoped>\n",
       "    .dataframe tbody tr th:only-of-type {\n",
       "        vertical-align: middle;\n",
       "    }\n",
       "\n",
       "    .dataframe tbody tr th {\n",
       "        vertical-align: top;\n",
       "    }\n",
       "\n",
       "    .dataframe thead th {\n",
       "        text-align: right;\n",
       "    }\n",
       "</style>\n",
       "<table border=\"1\" class=\"dataframe\">\n",
       "  <thead>\n",
       "    <tr style=\"text-align: right;\">\n",
       "      <th></th>\n",
       "      <th>Age</th>\n",
       "      <th>Gender</th>\n",
       "      <th>Speed_of_Impact</th>\n",
       "      <th>Helmet_Used</th>\n",
       "      <th>Seatbelt_Used</th>\n",
       "      <th>Survived</th>\n",
       "    </tr>\n",
       "  </thead>\n",
       "  <tbody>\n",
       "    <tr>\n",
       "      <th>0</th>\n",
       "      <td>56</td>\n",
       "      <td>Female</td>\n",
       "      <td>27.0</td>\n",
       "      <td>No</td>\n",
       "      <td>No</td>\n",
       "      <td>1</td>\n",
       "    </tr>\n",
       "    <tr>\n",
       "      <th>1</th>\n",
       "      <td>69</td>\n",
       "      <td>Female</td>\n",
       "      <td>46.0</td>\n",
       "      <td>No</td>\n",
       "      <td>Yes</td>\n",
       "      <td>1</td>\n",
       "    </tr>\n",
       "    <tr>\n",
       "      <th>2</th>\n",
       "      <td>46</td>\n",
       "      <td>Male</td>\n",
       "      <td>46.0</td>\n",
       "      <td>Yes</td>\n",
       "      <td>Yes</td>\n",
       "      <td>0</td>\n",
       "    </tr>\n",
       "    <tr>\n",
       "      <th>3</th>\n",
       "      <td>32</td>\n",
       "      <td>Male</td>\n",
       "      <td>117.0</td>\n",
       "      <td>No</td>\n",
       "      <td>Yes</td>\n",
       "      <td>0</td>\n",
       "    </tr>\n",
       "    <tr>\n",
       "      <th>4</th>\n",
       "      <td>60</td>\n",
       "      <td>Female</td>\n",
       "      <td>40.0</td>\n",
       "      <td>Yes</td>\n",
       "      <td>Yes</td>\n",
       "      <td>0</td>\n",
       "    </tr>\n",
       "    <tr>\n",
       "      <th>...</th>\n",
       "      <td>...</td>\n",
       "      <td>...</td>\n",
       "      <td>...</td>\n",
       "      <td>...</td>\n",
       "      <td>...</td>\n",
       "      <td>...</td>\n",
       "    </tr>\n",
       "    <tr>\n",
       "      <th>195</th>\n",
       "      <td>69</td>\n",
       "      <td>Female</td>\n",
       "      <td>111.0</td>\n",
       "      <td>No</td>\n",
       "      <td>Yes</td>\n",
       "      <td>1</td>\n",
       "    </tr>\n",
       "    <tr>\n",
       "      <th>196</th>\n",
       "      <td>30</td>\n",
       "      <td>Female</td>\n",
       "      <td>51.0</td>\n",
       "      <td>No</td>\n",
       "      <td>Yes</td>\n",
       "      <td>1</td>\n",
       "    </tr>\n",
       "    <tr>\n",
       "      <th>197</th>\n",
       "      <td>58</td>\n",
       "      <td>Male</td>\n",
       "      <td>110.0</td>\n",
       "      <td>No</td>\n",
       "      <td>Yes</td>\n",
       "      <td>1</td>\n",
       "    </tr>\n",
       "    <tr>\n",
       "      <th>198</th>\n",
       "      <td>20</td>\n",
       "      <td>Male</td>\n",
       "      <td>103.0</td>\n",
       "      <td>No</td>\n",
       "      <td>Yes</td>\n",
       "      <td>1</td>\n",
       "    </tr>\n",
       "    <tr>\n",
       "      <th>199</th>\n",
       "      <td>56</td>\n",
       "      <td>Female</td>\n",
       "      <td>43.0</td>\n",
       "      <td>No</td>\n",
       "      <td>Yes</td>\n",
       "      <td>1</td>\n",
       "    </tr>\n",
       "  </tbody>\n",
       "</table>\n",
       "<p>200 rows × 6 columns</p>\n",
       "</div>"
      ],
      "text/plain": [
       "     Age  Gender  Speed_of_Impact Helmet_Used Seatbelt_Used  Survived\n",
       "0     56  Female             27.0          No            No         1\n",
       "1     69  Female             46.0          No           Yes         1\n",
       "2     46    Male             46.0         Yes           Yes         0\n",
       "3     32    Male            117.0          No           Yes         0\n",
       "4     60  Female             40.0         Yes           Yes         0\n",
       "..   ...     ...              ...         ...           ...       ...\n",
       "195   69  Female            111.0          No           Yes         1\n",
       "196   30  Female             51.0          No           Yes         1\n",
       "197   58    Male            110.0          No           Yes         1\n",
       "198   20    Male            103.0          No           Yes         1\n",
       "199   56  Female             43.0          No           Yes         1\n",
       "\n",
       "[200 rows x 6 columns]"
      ]
     },
     "execution_count": 17,
     "metadata": {},
     "output_type": "execute_result"
    }
   ],
   "source": [
    "df"
   ]
  },
  {
   "cell_type": "code",
   "execution_count": 18,
   "id": "5b663cf6",
   "metadata": {
    "execution": {
     "iopub.execute_input": "2025-02-20T18:38:14.625452Z",
     "iopub.status.busy": "2025-02-20T18:38:14.625084Z",
     "iopub.status.idle": "2025-02-20T18:38:14.787249Z",
     "shell.execute_reply": "2025-02-20T18:38:14.786145Z"
    },
    "papermill": {
     "duration": 0.174295,
     "end_time": "2025-02-20T18:38:14.789323",
     "exception": false,
     "start_time": "2025-02-20T18:38:14.615028",
     "status": "completed"
    },
    "tags": []
   },
   "outputs": [],
   "source": [
    "from sklearn.preprocessing import OneHotEncoder"
   ]
  },
  {
   "cell_type": "code",
   "execution_count": 19,
   "id": "b4b33697",
   "metadata": {
    "execution": {
     "iopub.execute_input": "2025-02-20T18:38:14.807975Z",
     "iopub.status.busy": "2025-02-20T18:38:14.807613Z",
     "iopub.status.idle": "2025-02-20T18:38:14.811924Z",
     "shell.execute_reply": "2025-02-20T18:38:14.810907Z"
    },
    "papermill": {
     "duration": 0.015334,
     "end_time": "2025-02-20T18:38:14.813619",
     "exception": false,
     "start_time": "2025-02-20T18:38:14.798285",
     "status": "completed"
    },
    "tags": []
   },
   "outputs": [],
   "source": [
    "oc = OneHotEncoder(drop='first',sparse_output = False)"
   ]
  },
  {
   "cell_type": "code",
   "execution_count": 20,
   "id": "baa8fd83",
   "metadata": {
    "execution": {
     "iopub.execute_input": "2025-02-20T18:38:14.832962Z",
     "iopub.status.busy": "2025-02-20T18:38:14.832560Z",
     "iopub.status.idle": "2025-02-20T18:38:14.842022Z",
     "shell.execute_reply": "2025-02-20T18:38:14.840964Z"
    },
    "papermill": {
     "duration": 0.021338,
     "end_time": "2025-02-20T18:38:14.843862",
     "exception": false,
     "start_time": "2025-02-20T18:38:14.822524",
     "status": "completed"
    },
    "tags": []
   },
   "outputs": [],
   "source": [
    "df['Gender'] = oc.fit_transform(df[['Gender']])"
   ]
  },
  {
   "cell_type": "code",
   "execution_count": 21,
   "id": "7d31b7f9",
   "metadata": {
    "execution": {
     "iopub.execute_input": "2025-02-20T18:38:14.862880Z",
     "iopub.status.busy": "2025-02-20T18:38:14.862530Z",
     "iopub.status.idle": "2025-02-20T18:38:14.869304Z",
     "shell.execute_reply": "2025-02-20T18:38:14.868337Z"
    },
    "papermill": {
     "duration": 0.018281,
     "end_time": "2025-02-20T18:38:14.870984",
     "exception": false,
     "start_time": "2025-02-20T18:38:14.852703",
     "status": "completed"
    },
    "tags": []
   },
   "outputs": [],
   "source": [
    "df['Helmet_Used'] = oc.fit_transform(df[['Helmet_Used']])"
   ]
  },
  {
   "cell_type": "code",
   "execution_count": 22,
   "id": "ddddbb8d",
   "metadata": {
    "execution": {
     "iopub.execute_input": "2025-02-20T18:38:14.890099Z",
     "iopub.status.busy": "2025-02-20T18:38:14.889719Z",
     "iopub.status.idle": "2025-02-20T18:38:14.896688Z",
     "shell.execute_reply": "2025-02-20T18:38:14.895480Z"
    },
    "papermill": {
     "duration": 0.018746,
     "end_time": "2025-02-20T18:38:14.898604",
     "exception": false,
     "start_time": "2025-02-20T18:38:14.879858",
     "status": "completed"
    },
    "tags": []
   },
   "outputs": [],
   "source": [
    "df['Seatbelt_Used'] = oc.fit_transform(df[['Seatbelt_Used']])"
   ]
  },
  {
   "cell_type": "code",
   "execution_count": 23,
   "id": "46013b85",
   "metadata": {
    "execution": {
     "iopub.execute_input": "2025-02-20T18:38:14.917356Z",
     "iopub.status.busy": "2025-02-20T18:38:14.917009Z",
     "iopub.status.idle": "2025-02-20T18:38:14.931446Z",
     "shell.execute_reply": "2025-02-20T18:38:14.930277Z"
    },
    "papermill": {
     "duration": 0.025848,
     "end_time": "2025-02-20T18:38:14.933237",
     "exception": false,
     "start_time": "2025-02-20T18:38:14.907389",
     "status": "completed"
    },
    "tags": []
   },
   "outputs": [
    {
     "data": {
      "text/html": [
       "<div>\n",
       "<style scoped>\n",
       "    .dataframe tbody tr th:only-of-type {\n",
       "        vertical-align: middle;\n",
       "    }\n",
       "\n",
       "    .dataframe tbody tr th {\n",
       "        vertical-align: top;\n",
       "    }\n",
       "\n",
       "    .dataframe thead th {\n",
       "        text-align: right;\n",
       "    }\n",
       "</style>\n",
       "<table border=\"1\" class=\"dataframe\">\n",
       "  <thead>\n",
       "    <tr style=\"text-align: right;\">\n",
       "      <th></th>\n",
       "      <th>Age</th>\n",
       "      <th>Gender</th>\n",
       "      <th>Speed_of_Impact</th>\n",
       "      <th>Helmet_Used</th>\n",
       "      <th>Seatbelt_Used</th>\n",
       "      <th>Survived</th>\n",
       "    </tr>\n",
       "  </thead>\n",
       "  <tbody>\n",
       "    <tr>\n",
       "      <th>0</th>\n",
       "      <td>56</td>\n",
       "      <td>0.0</td>\n",
       "      <td>27.0</td>\n",
       "      <td>0.0</td>\n",
       "      <td>0.0</td>\n",
       "      <td>1</td>\n",
       "    </tr>\n",
       "    <tr>\n",
       "      <th>1</th>\n",
       "      <td>69</td>\n",
       "      <td>0.0</td>\n",
       "      <td>46.0</td>\n",
       "      <td>0.0</td>\n",
       "      <td>1.0</td>\n",
       "      <td>1</td>\n",
       "    </tr>\n",
       "    <tr>\n",
       "      <th>2</th>\n",
       "      <td>46</td>\n",
       "      <td>1.0</td>\n",
       "      <td>46.0</td>\n",
       "      <td>1.0</td>\n",
       "      <td>1.0</td>\n",
       "      <td>0</td>\n",
       "    </tr>\n",
       "    <tr>\n",
       "      <th>3</th>\n",
       "      <td>32</td>\n",
       "      <td>1.0</td>\n",
       "      <td>117.0</td>\n",
       "      <td>0.0</td>\n",
       "      <td>1.0</td>\n",
       "      <td>0</td>\n",
       "    </tr>\n",
       "    <tr>\n",
       "      <th>4</th>\n",
       "      <td>60</td>\n",
       "      <td>0.0</td>\n",
       "      <td>40.0</td>\n",
       "      <td>1.0</td>\n",
       "      <td>1.0</td>\n",
       "      <td>0</td>\n",
       "    </tr>\n",
       "    <tr>\n",
       "      <th>5</th>\n",
       "      <td>25</td>\n",
       "      <td>1.0</td>\n",
       "      <td>49.0</td>\n",
       "      <td>1.0</td>\n",
       "      <td>1.0</td>\n",
       "      <td>1</td>\n",
       "    </tr>\n",
       "    <tr>\n",
       "      <th>6</th>\n",
       "      <td>38</td>\n",
       "      <td>1.0</td>\n",
       "      <td>116.0</td>\n",
       "      <td>1.0</td>\n",
       "      <td>1.0</td>\n",
       "      <td>1</td>\n",
       "    </tr>\n",
       "    <tr>\n",
       "      <th>7</th>\n",
       "      <td>56</td>\n",
       "      <td>1.0</td>\n",
       "      <td>47.0</td>\n",
       "      <td>1.0</td>\n",
       "      <td>1.0</td>\n",
       "      <td>1</td>\n",
       "    </tr>\n",
       "    <tr>\n",
       "      <th>8</th>\n",
       "      <td>36</td>\n",
       "      <td>0.0</td>\n",
       "      <td>83.0</td>\n",
       "      <td>1.0</td>\n",
       "      <td>0.0</td>\n",
       "      <td>1</td>\n",
       "    </tr>\n",
       "    <tr>\n",
       "      <th>9</th>\n",
       "      <td>40</td>\n",
       "      <td>0.0</td>\n",
       "      <td>116.0</td>\n",
       "      <td>1.0</td>\n",
       "      <td>0.0</td>\n",
       "      <td>1</td>\n",
       "    </tr>\n",
       "  </tbody>\n",
       "</table>\n",
       "</div>"
      ],
      "text/plain": [
       "   Age  Gender  Speed_of_Impact  Helmet_Used  Seatbelt_Used  Survived\n",
       "0   56     0.0             27.0          0.0            0.0         1\n",
       "1   69     0.0             46.0          0.0            1.0         1\n",
       "2   46     1.0             46.0          1.0            1.0         0\n",
       "3   32     1.0            117.0          0.0            1.0         0\n",
       "4   60     0.0             40.0          1.0            1.0         0\n",
       "5   25     1.0             49.0          1.0            1.0         1\n",
       "6   38     1.0            116.0          1.0            1.0         1\n",
       "7   56     1.0             47.0          1.0            1.0         1\n",
       "8   36     0.0             83.0          1.0            0.0         1\n",
       "9   40     0.0            116.0          1.0            0.0         1"
      ]
     },
     "execution_count": 23,
     "metadata": {},
     "output_type": "execute_result"
    }
   ],
   "source": [
    "df.head(10)"
   ]
  },
  {
   "cell_type": "code",
   "execution_count": null,
   "id": "2b4fbb7f",
   "metadata": {
    "papermill": {
     "duration": 0.009,
     "end_time": "2025-02-20T18:38:14.952025",
     "exception": false,
     "start_time": "2025-02-20T18:38:14.943025",
     "status": "completed"
    },
    "tags": []
   },
   "outputs": [],
   "source": []
  }
 ],
 "metadata": {
  "kaggle": {
   "accelerator": "none",
   "dataSources": [
    {
     "datasetId": 6502557,
     "sourceId": 10503525,
     "sourceType": "datasetVersion"
    }
   ],
   "dockerImageVersionId": 30886,
   "isGpuEnabled": false,
   "isInternetEnabled": true,
   "language": "python",
   "sourceType": "notebook"
  },
  "kernelspec": {
   "display_name": "Python 3",
   "language": "python",
   "name": "python3"
  },
  "language_info": {
   "codemirror_mode": {
    "name": "ipython",
    "version": 3
   },
   "file_extension": ".py",
   "mimetype": "text/x-python",
   "name": "python",
   "nbconvert_exporter": "python",
   "pygments_lexer": "ipython3",
   "version": "3.10.12"
  },
  "papermill": {
   "default_parameters": {},
   "duration": 8.093235,
   "end_time": "2025-02-20T18:38:15.682445",
   "environment_variables": {},
   "exception": null,
   "input_path": "__notebook__.ipynb",
   "output_path": "__notebook__.ipynb",
   "parameters": {},
   "start_time": "2025-02-20T18:38:07.589210",
   "version": "2.6.0"
  }
 },
 "nbformat": 4,
 "nbformat_minor": 5
}
